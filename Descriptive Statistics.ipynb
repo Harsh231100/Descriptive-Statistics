{
 "cells": [
  {
   "cell_type": "markdown",
   "id": "85dd50a7",
   "metadata": {},
   "source": [
    "# STATISTICS"
   ]
  },
  {
   "cell_type": "markdown",
   "id": "eda24b7b",
   "metadata": {},
   "source": [
    "Statistics is the study of the collection, analysis, interpretation, presentation, and organization of data. it is a mathematical discipline to collect, summarize data.\n",
    "\n",
    "Statistics makes work easy and simple and provides a clear and clean picture of the work you do on a regular basis. Statistics is used in a variety of sciences and has huge applications, it is used in Weather Forecasting, the Study of the Stock Market, Insurance Sectors, Betting Industry, Data Science, and others."
   ]
  },
  {
   "cell_type": "markdown",
   "id": "bf56ad8d",
   "metadata": {},
   "source": [
    "### Types of Statistics\n",
    "There are 2 types of statistics:\n",
    "\n",
    "    1. Descriptive Statistics\n",
    "    2. Inferential Statistics"
   ]
  },
  {
   "cell_type": "markdown",
   "id": "53613342",
   "metadata": {},
   "source": [
    "## Inferential Statistics"
   ]
  },
  {
   "cell_type": "markdown",
   "id": "51a6a139",
   "metadata": {},
   "source": [
    "* It is simply used for explaining the meaning of descriptive stats. It is simply used to analyze, interpret results, and draw conclusions. Inferential Statistics is mainly related to and associated with hypothesis testing whose main target is to reject the null hypothesis.\n",
    "\n",
    "* Inferential Statistics makes inferences and predictions about the population based on a sample of data taken from the population. It generalizes a large dataset and applies probabilities to draw a conclusion."
   ]
  },
  {
   "cell_type": "markdown",
   "id": "37bec959",
   "metadata": {},
   "source": [
    "## Descriptive Statistics"
   ]
  },
  {
   "cell_type": "markdown",
   "id": "689bd42e",
   "metadata": {},
   "source": [
    "* Descriptive statistics uses data that provides a description of the population either through numerical calculated graphs or tables. It provides a graphical summary of data.\n",
    "\n",
    "* Descriptive statistics are brief informational coefficients that summarize a given data set.\n",
    "\n",
    "* Descriptive statistics, in short, help describe and understand the features of a specific data set by giving short summaries about the sample and measures of the data."
   ]
  },
  {
   "cell_type": "markdown",
   "id": "3236fb88",
   "metadata": {},
   "source": [
    "### Types of descriptive statistics"
   ]
  },
  {
   "cell_type": "markdown",
   "id": "ccc2b7ea",
   "metadata": {},
   "source": [
    "There are 3 main types of descriptive statistics:\n",
    "\n",
    "1. **Distribution:** The Distribution concerns the frequency of each value.\n",
    "2. **Measure of Central Tendency:** The Central Tendency concerns the averages of the values.\n",
    "3. **Measure of Dispersion:** The variabilty or dispersion concerns how spread out the values are."
   ]
  },
  {
   "cell_type": "markdown",
   "id": "d0163fc4",
   "metadata": {},
   "source": [
    "![](https://www.bachelorprint.com/wp-content/uploads/2023/07/Descriptive-statistics-types.jpg)"
   ]
  },
  {
   "cell_type": "markdown",
   "id": "a2e2349f",
   "metadata": {},
   "source": [
    "## Distribution:"
   ]
  },
  {
   "cell_type": "markdown",
   "id": "ac1aa312",
   "metadata": {},
   "source": [
    "Distribution (or frequency distribution) refers to the quantity of times a data point occurs. Alternatively, it is the measurement of a data point failing to occur.\n",
    "\n",
    "A data set is made up of a distribution of values, or scores. In tables or graphs, you can summarize the frequency of every possible value of a variable in numbers or percentages. This is called a frequency distribution."
   ]
  },
  {
   "cell_type": "markdown",
   "id": "dcfd7fdb",
   "metadata": {},
   "source": [
    "![](https://www.scaler.com/topics/images/descriptive-statistics-1.webp)"
   ]
  },
  {
   "cell_type": "markdown",
   "id": "2e595965",
   "metadata": {},
   "source": [
    "## Measure of Central Tendency:"
   ]
  },
  {
   "cell_type": "markdown",
   "id": "5a2fbe14",
   "metadata": {},
   "source": [
    "Measures of central tendency focus on the average or middle values of data sets, whereas measures of variability focus on the dispersion of data. These two measures use graphs, tables and general discussions to help people understand the meaning of the analyzed data.\n",
    "\n",
    "There are three main measures of central tendency:\n",
    "\n",
    "* Mean\n",
    "* Mode\n",
    "* Median"
   ]
  },
  {
   "cell_type": "markdown",
   "id": "d17379b5",
   "metadata": {},
   "source": [
    "![](https://www.k2analytics.co.in/wp-content/uploads/2020/04/mean-median-mode.png)"
   ]
  },
  {
   "cell_type": "markdown",
   "id": "e210649c",
   "metadata": {},
   "source": [
    "## 1. Mean"
   ]
  },
  {
   "cell_type": "markdown",
   "id": "b3f79629",
   "metadata": {},
   "source": [
    "Mean is the sum of all the values in the data set divided by the number of values in the data set. It is also called the Arithmetic Average. Mean is denoted as x̅.\n",
    "\n",
    "The mean formula for ungrouped data is defined as the sum of the observations divided by the total number of observations. This will be helpful in solving a majority of the topics related to the arithmetic mean. The mean formula of given observations can be expressed as,\n"
   ]
  },
  {
   "cell_type": "markdown",
   "id": "ea9ef3cc",
   "metadata": {},
   "source": [
    "### Formula of mean "
   ]
  },
  {
   "cell_type": "markdown",
   "id": "2006156e",
   "metadata": {},
   "source": [
    "![](https://miro.medium.com/v2/resize:fit:640/1*ta7di3i47Vumk0zpoGv79Q.png)"
   ]
  },
  {
   "cell_type": "markdown",
   "id": "5cbe13de",
   "metadata": {},
   "source": [
    "## 2. Median"
   ]
  },
  {
   "cell_type": "markdown",
   "id": "6814b1a9",
   "metadata": {},
   "source": [
    "* A Median is a middle value for sorted data. The sorting of the data can be done either in ascending order or descending order. A median divides the data into two equal halves.\n",
    "\n",
    "* Median is the value that divides the data into 2 equal parts i.e. number of terms on the right side of it is the same as a number of terms on the left side of it when data is arranged in either ascending or descending order.\n"
   ]
  },
  {
   "cell_type": "markdown",
   "id": "6ac96a37",
   "metadata": {},
   "source": [
    "### Median Formula of Ungrouped Data"
   ]
  },
  {
   "cell_type": "markdown",
   "id": "ee0c8297",
   "metadata": {},
   "source": [
    "![](https://d1avenlh0i1xmr.cloudfront.net/0ec61e08-cc6a-4724-93e5-12da8dc17a03/5.jpg)"
   ]
  },
  {
   "cell_type": "markdown",
   "id": "bc53da1c",
   "metadata": {},
   "source": [
    "### Median Formula of grouped Data"
   ]
  },
  {
   "cell_type": "markdown",
   "id": "c5ae107a",
   "metadata": {},
   "source": [
    "![](https://i.stack.imgur.com/i1inj.jpg)"
   ]
  },
  {
   "cell_type": "markdown",
   "id": "d139f83e",
   "metadata": {},
   "source": [
    "## 3. Mode"
   ]
  },
  {
   "cell_type": "markdown",
   "id": "25b8c170",
   "metadata": {},
   "source": [
    " A mode is the most frequent value or item of the data set. A data set can generally have one or more than one mode value.\n",
    "\n",
    " Mode is the term appearing maximum time in data set i.e. term that has the highest frequency.\n"
   ]
  },
  {
   "cell_type": "markdown",
   "id": "93b7399c",
   "metadata": {},
   "source": [
    "### Mode of Ungrouped Data\n",
    "\n",
    "* Mode of Ungrouped Data can be simply calculated by observing the observation with the highest frequency.\n"
   ]
  },
  {
   "cell_type": "markdown",
   "id": "98ecd429",
   "metadata": {},
   "source": [
    "![](https://media.geeksforgeeks.org/wp-content/uploads/20230416230719/Mode-(1).png)"
   ]
  },
  {
   "cell_type": "markdown",
   "id": "54e3e028",
   "metadata": {},
   "source": [
    "### Mode of Grouped Data"
   ]
  },
  {
   "cell_type": "markdown",
   "id": "9781f7e1",
   "metadata": {},
   "source": [
    "![](https://www.mathmindsacademy.com/uploads/1/0/0/0/100057076/mode-formula-1_orig.jpg)"
   ]
  },
  {
   "cell_type": "markdown",
   "id": "dbd22199",
   "metadata": {},
   "source": [
    "## Measure of Dispersion or Variability"
   ]
  },
  {
   "cell_type": "markdown",
   "id": "a5b8e855",
   "metadata": {},
   "source": [
    "Measures of variability are also termed measures of dispersion as it helps to gain insights about the dispersion or the spread of the observations at hand.\n",
    "\n",
    "Measure of Dispersion is the numbers that are used to represent the scattering of the data. These are the numbers that show the various aspects of the data spread across various parameters.\n",
    "\n"
   ]
  },
  {
   "cell_type": "markdown",
   "id": "3093b732",
   "metadata": {},
   "source": [
    "![](https://media.geeksforgeeks.org/wp-content/uploads/20230810105933/measure-of-depression.png)"
   ]
  },
  {
   "cell_type": "markdown",
   "id": "fcae435b",
   "metadata": {},
   "source": [
    "### Types of Measures of Dispersion\n",
    "Measures of dispersion can be classified into two categories shown below:  \n",
    "\n",
    "* Absolute Measures of Dispersion\n",
    "* Relative Measures of Dispersion\n",
    "\n",
    "#### Absolute Measures of Dispersion\n",
    "These measures of dispersion are measured and expressed in the units of data themselves. For example – Meters, Dollars, Kg, etc.\n",
    "\n",
    "#### Relative Measures of Dispersion\n",
    "Suppose we have to measure the two quantities that have different units than we used relative measures of dispersion to get a better idea about the scatter of the data."
   ]
  },
  {
   "cell_type": "markdown",
   "id": "8047ccd4",
   "metadata": {},
   "source": [
    "![](https://media.geeksforgeeks.org/wp-content/uploads/20230810213555/Measure-of-Depresion.jpg)"
   ]
  },
  {
   "cell_type": "markdown",
   "id": "2162198a",
   "metadata": {},
   "source": [
    "## Type of Absolute Measures of Dispersion"
   ]
  },
  {
   "cell_type": "markdown",
   "id": "cd86a19c",
   "metadata": {},
   "source": [
    "### 1. Range"
   ]
  },
  {
   "cell_type": "markdown",
   "id": "0c1ec920",
   "metadata": {},
   "source": [
    "The range describes the difference between the largest and smallest data point in our data set. The bigger the range, the more the spread of data and vice versa.\n",
    "\n",
    "Range :- Largest data value – smallest data value "
   ]
  },
  {
   "cell_type": "markdown",
   "id": "e9de64b3",
   "metadata": {},
   "source": [
    "![](https://cdn.corporatefinanceinstitute.com/assets/range1.png)"
   ]
  },
  {
   "cell_type": "markdown",
   "id": "d9b3db14",
   "metadata": {},
   "source": [
    "### 2. Variance"
   ]
  },
  {
   "cell_type": "markdown",
   "id": "6d8f52e9",
   "metadata": {},
   "source": [
    "It is defined as an average squared deviation from the mean. It is calculated by finding the difference between every data point and the average which is also known as the mean, squaring them, adding all of them, and then dividing by the number of data points present in our data set.\n",
    "\n",
    "The variance defines a measure of the spread or dispersion within a set of data. There are two types: the population variance, usually denoted by σ2 and the sample variance is usually denoted by s2.\n",
    "\n",
    "The are two types of variance used in statistics,\n",
    "\n",
    "* Sample Variance\n",
    "* Population Variance"
   ]
  },
  {
   "cell_type": "markdown",
   "id": "cdfb47e8",
   "metadata": {},
   "source": [
    "#### Population Variance\n",
    "Population variance is used to find the spread of the given population. The population is defined as a group of people and all the people in that group are part of the population. It tells us about how the population of a group varies with respect to the mean population.\n",
    "\n",
    "#### Sample Variance\n",
    "If the population data is very large it becomes difficult to calculate the population variance of the data set. In that case, we take a sample of data from the given data set and find the variance of that data set which is called sample variance. While calculating the sample mean we make sure to calculate the sample mean, i.e. the mean of the sample data set not the population mean. We can define the sample variance as the mean of the square of the difference between the sample data point and the sample mean."
   ]
  },
  {
   "cell_type": "markdown",
   "id": "92750e96",
   "metadata": {},
   "source": [
    "![](https://www.onlinemathlearning.com/image-files/population-variance.png)"
   ]
  },
  {
   "cell_type": "markdown",
   "id": "b76bd3db",
   "metadata": {},
   "source": [
    "### 3. Standard deviation"
   ]
  },
  {
   "cell_type": "markdown",
   "id": "f58188a4",
   "metadata": {},
   "source": [
    "Standard deviation is a statistic that measures the dispersion of a dataset relative to its mean and is calculated as the square root of the variance. The standard deviation is calculated as the square root of variance by determining each data point's deviation relative to the mean.\n",
    "\n",
    "Standard deviation is a measure used in descriptivestatistics to understand how the data points in a set are spread out from the average (mean) value. It indicates the extent of the data’s variation and shows how far individual data points deviate from the average"
   ]
  },
  {
   "cell_type": "markdown",
   "id": "173a64e2",
   "metadata": {},
   "source": [
    "#### Formula of Standard Deviation"
   ]
  },
  {
   "cell_type": "markdown",
   "id": "aea2e1f1",
   "metadata": {},
   "source": [
    "![](https://media.geeksforgeeks.org/wp-content/uploads/20230605181802/Standard-Deviation-Formula.png)"
   ]
  },
  {
   "cell_type": "markdown",
   "id": "f83f9c23",
   "metadata": {},
   "source": [
    "### 4. Mean deviation"
   ]
  },
  {
   "cell_type": "markdown",
   "id": "a0eda6db",
   "metadata": {},
   "source": [
    "The mean deviation of a given standard distribution is the average of the deviation from the central tendency. Central Tendency can be computed using the Arithmetic Mean, Median, or Mode of the data. It is used to show how far the observations are situated from the central point of the data"
   ]
  },
  {
   "cell_type": "markdown",
   "id": "e46c7be0",
   "metadata": {},
   "source": [
    "#### Formula of Mean deviation"
   ]
  },
  {
   "cell_type": "markdown",
   "id": "85e136f9",
   "metadata": {},
   "source": [
    "![](https://media.geeksforgeeks.org/wp-content/uploads/20230529110742/mean-deviation.PNG)"
   ]
  },
  {
   "cell_type": "markdown",
   "id": "3ad9e52a",
   "metadata": {},
   "source": [
    "### Quartile deviation"
   ]
  },
  {
   "cell_type": "markdown",
   "id": "49aafa96",
   "metadata": {},
   "source": [
    "Quartile Deviation or Semi-Interquartile Range is the half of difference between the Upper Quartile (Q3) and the Lower Quartile (Q1). In simple terms, QD is the half of inter-quartile range."
   ]
  },
  {
   "cell_type": "markdown",
   "id": "aa28f1b3",
   "metadata": {},
   "source": [
    "#### Formula Quartile deviation"
   ]
  },
  {
   "cell_type": "markdown",
   "id": "7643fc6c",
   "metadata": {},
   "source": [
    "![](https://sp-uploads.s3.amazonaws.com/uploads/services/4857811/20221021145729_6352b35973092_quartile_deviationpage1.jpg)"
   ]
  },
  {
   "cell_type": "markdown",
   "id": "6ec37051",
   "metadata": {},
   "source": [
    "## Type of Relative Measures of Dispersion"
   ]
  },
  {
   "cell_type": "markdown",
   "id": "7a1355e1",
   "metadata": {},
   "source": [
    "### 1. Coefficient of Range"
   ]
  },
  {
   "cell_type": "markdown",
   "id": "087fa31a",
   "metadata": {},
   "source": [
    "The coefficient of range is defined as the ratio of the difference between the highest and lowest value in a data set to the sum of the highest and lowest value."
   ]
  },
  {
   "cell_type": "markdown",
   "id": "0af3ff57",
   "metadata": {},
   "source": [
    "![](https://image.slidesharecdn.com/definitionofdispersion-170527143130/85/definition-of-dispersion-10-320.jpg?cb=1666186193)"
   ]
  },
  {
   "cell_type": "markdown",
   "id": "35f32c39",
   "metadata": {},
   "source": [
    "### 2. Coefficient of Variation"
   ]
  },
  {
   "cell_type": "markdown",
   "id": "8736fe7c",
   "metadata": {},
   "source": [
    "The coefficient of range is defined as the ratio of the difference between the highest and lowest value in a data set to the sum of the highest and lowest value."
   ]
  },
  {
   "cell_type": "markdown",
   "id": "e29b5e92",
   "metadata": {},
   "source": [
    "![](https://miro.medium.com/v2/resize:fit:1400/1*K7j7SwAB3p71uuMcDrRTCg.png)"
   ]
  },
  {
   "cell_type": "markdown",
   "id": "8ed49738",
   "metadata": {},
   "source": [
    "### 3. Coefficient of Mean Deviation"
   ]
  },
  {
   "cell_type": "markdown",
   "id": "c7625192",
   "metadata": {},
   "source": [
    "The coefficient of the Mean Deviation is defined as the ratio of the mean deviation to the value of the central point of the data set.\n",
    "\n"
   ]
  },
  {
   "cell_type": "markdown",
   "id": "d81324ad",
   "metadata": {},
   "source": [
    "![](https://slideplayer.com/slide/13296397/79/images/17/Coefficient+of+Mean+Deviation.jpg)"
   ]
  },
  {
   "cell_type": "markdown",
   "id": "ad545f00",
   "metadata": {},
   "source": [
    "### 4. Coefficient of Quartile Deviation"
   ]
  },
  {
   "cell_type": "markdown",
   "id": "85f52581",
   "metadata": {},
   "source": [
    "The coefficient of the Quartile Deviation is defined as the ratio of the difference between the third quartile and the first quartile to the sum of the third and first quartiles."
   ]
  },
  {
   "cell_type": "markdown",
   "id": "60af0f8c",
   "metadata": {},
   "source": [
    "![](https://1.bp.blogspot.com/-b68xs_pGwTg/X85CqBDgT3I/AAAAAAAAGm4/bFeqKuMJU54QS_miBM7wuAG9vRQXHlXCwCLcBGAsYHQ/s16000/quartile%2Bdeviation%2B%2528Q.D.%2529.png)"
   ]
  }
 ],
 "metadata": {
  "kernelspec": {
   "display_name": "Python 3 (ipykernel)",
   "language": "python",
   "name": "python3"
  },
  "language_info": {
   "codemirror_mode": {
    "name": "ipython",
    "version": 3
   },
   "file_extension": ".py",
   "mimetype": "text/x-python",
   "name": "python",
   "nbconvert_exporter": "python",
   "pygments_lexer": "ipython3",
   "version": "3.11.5"
  }
 },
 "nbformat": 4,
 "nbformat_minor": 5
}
